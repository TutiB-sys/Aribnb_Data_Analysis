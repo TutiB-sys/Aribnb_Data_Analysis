{
 "cells": [
  {
   "cell_type": "markdown",
   "metadata": {},
   "source": [
    "# Airbub Data Analysis Project"
   ]
  },
  {
   "cell_type": "code",
   "execution_count": 2,
   "metadata": {},
   "outputs": [],
   "source": [
    "import numpy as np\n",
    "import pandas as pd\n",
    "import matplotlib.pyplot as plt"
   ]
  },
  {
   "cell_type": "code",
   "execution_count": 4,
   "metadata": {
    "scrolled": false
   },
   "outputs": [
    {
     "data": {
      "text/html": [
       "<div>\n",
       "<style scoped>\n",
       "    .dataframe tbody tr th:only-of-type {\n",
       "        vertical-align: middle;\n",
       "    }\n",
       "\n",
       "    .dataframe tbody tr th {\n",
       "        vertical-align: top;\n",
       "    }\n",
       "\n",
       "    .dataframe thead th {\n",
       "        text-align: right;\n",
       "    }\n",
       "</style>\n",
       "<table border=\"1\" class=\"dataframe\">\n",
       "  <thead>\n",
       "    <tr style=\"text-align: right;\">\n",
       "      <th></th>\n",
       "      <th>id</th>\n",
       "      <th>name</th>\n",
       "      <th>host_id</th>\n",
       "      <th>host_name</th>\n",
       "      <th>neighbourhood_group</th>\n",
       "      <th>neighbourhood</th>\n",
       "      <th>latitude</th>\n",
       "      <th>longitude</th>\n",
       "      <th>room_type</th>\n",
       "      <th>price</th>\n",
       "      <th>minimum_nights</th>\n",
       "      <th>number_of_reviews</th>\n",
       "      <th>last_review</th>\n",
       "      <th>reviews_per_month</th>\n",
       "      <th>calculated_host_listings_count</th>\n",
       "      <th>availability_365</th>\n",
       "    </tr>\n",
       "  </thead>\n",
       "  <tbody>\n",
       "    <tr>\n",
       "      <th>0</th>\n",
       "      <td>2539</td>\n",
       "      <td>Clean &amp; quiet apt home by the park</td>\n",
       "      <td>2787</td>\n",
       "      <td>John</td>\n",
       "      <td>Brooklyn</td>\n",
       "      <td>Kensington</td>\n",
       "      <td>40.64749</td>\n",
       "      <td>-73.97237</td>\n",
       "      <td>Private room</td>\n",
       "      <td>149</td>\n",
       "      <td>1</td>\n",
       "      <td>9</td>\n",
       "      <td>2018-10-19</td>\n",
       "      <td>0.21</td>\n",
       "      <td>6</td>\n",
       "      <td>365</td>\n",
       "    </tr>\n",
       "    <tr>\n",
       "      <th>1</th>\n",
       "      <td>2595</td>\n",
       "      <td>Skylit Midtown Castle</td>\n",
       "      <td>2845</td>\n",
       "      <td>Jennifer</td>\n",
       "      <td>Manhattan</td>\n",
       "      <td>Midtown</td>\n",
       "      <td>40.75362</td>\n",
       "      <td>-73.98377</td>\n",
       "      <td>Entire home/apt</td>\n",
       "      <td>225</td>\n",
       "      <td>1</td>\n",
       "      <td>45</td>\n",
       "      <td>2019-05-21</td>\n",
       "      <td>0.38</td>\n",
       "      <td>2</td>\n",
       "      <td>355</td>\n",
       "    </tr>\n",
       "    <tr>\n",
       "      <th>2</th>\n",
       "      <td>3647</td>\n",
       "      <td>THE VILLAGE OF HARLEM....NEW YORK !</td>\n",
       "      <td>4632</td>\n",
       "      <td>Elisabeth</td>\n",
       "      <td>Manhattan</td>\n",
       "      <td>Harlem</td>\n",
       "      <td>40.80902</td>\n",
       "      <td>-73.94190</td>\n",
       "      <td>Private room</td>\n",
       "      <td>150</td>\n",
       "      <td>3</td>\n",
       "      <td>0</td>\n",
       "      <td>NaN</td>\n",
       "      <td>NaN</td>\n",
       "      <td>1</td>\n",
       "      <td>365</td>\n",
       "    </tr>\n",
       "    <tr>\n",
       "      <th>3</th>\n",
       "      <td>3831</td>\n",
       "      <td>Cozy Entire Floor of Brownstone</td>\n",
       "      <td>4869</td>\n",
       "      <td>LisaRoxanne</td>\n",
       "      <td>Brooklyn</td>\n",
       "      <td>Clinton Hill</td>\n",
       "      <td>40.68514</td>\n",
       "      <td>-73.95976</td>\n",
       "      <td>Entire home/apt</td>\n",
       "      <td>89</td>\n",
       "      <td>1</td>\n",
       "      <td>270</td>\n",
       "      <td>2019-07-05</td>\n",
       "      <td>4.64</td>\n",
       "      <td>1</td>\n",
       "      <td>194</td>\n",
       "    </tr>\n",
       "    <tr>\n",
       "      <th>4</th>\n",
       "      <td>5022</td>\n",
       "      <td>Entire Apt: Spacious Studio/Loft by central park</td>\n",
       "      <td>7192</td>\n",
       "      <td>Laura</td>\n",
       "      <td>Manhattan</td>\n",
       "      <td>East Harlem</td>\n",
       "      <td>40.79851</td>\n",
       "      <td>-73.94399</td>\n",
       "      <td>Entire home/apt</td>\n",
       "      <td>80</td>\n",
       "      <td>10</td>\n",
       "      <td>9</td>\n",
       "      <td>2018-11-19</td>\n",
       "      <td>0.10</td>\n",
       "      <td>1</td>\n",
       "      <td>0</td>\n",
       "    </tr>\n",
       "  </tbody>\n",
       "</table>\n",
       "</div>"
      ],
      "text/plain": [
       "     id                                              name  host_id  \\\n",
       "0  2539                Clean & quiet apt home by the park     2787   \n",
       "1  2595                             Skylit Midtown Castle     2845   \n",
       "2  3647               THE VILLAGE OF HARLEM....NEW YORK !     4632   \n",
       "3  3831                   Cozy Entire Floor of Brownstone     4869   \n",
       "4  5022  Entire Apt: Spacious Studio/Loft by central park     7192   \n",
       "\n",
       "     host_name neighbourhood_group neighbourhood  latitude  longitude  \\\n",
       "0         John            Brooklyn    Kensington  40.64749  -73.97237   \n",
       "1     Jennifer           Manhattan       Midtown  40.75362  -73.98377   \n",
       "2    Elisabeth           Manhattan        Harlem  40.80902  -73.94190   \n",
       "3  LisaRoxanne            Brooklyn  Clinton Hill  40.68514  -73.95976   \n",
       "4        Laura           Manhattan   East Harlem  40.79851  -73.94399   \n",
       "\n",
       "         room_type  price  minimum_nights  number_of_reviews last_review  \\\n",
       "0     Private room    149               1                  9  2018-10-19   \n",
       "1  Entire home/apt    225               1                 45  2019-05-21   \n",
       "2     Private room    150               3                  0         NaN   \n",
       "3  Entire home/apt     89               1                270  2019-07-05   \n",
       "4  Entire home/apt     80              10                  9  2018-11-19   \n",
       "\n",
       "   reviews_per_month  calculated_host_listings_count  availability_365  \n",
       "0               0.21                               6               365  \n",
       "1               0.38                               2               355  \n",
       "2                NaN                               1               365  \n",
       "3               4.64                               1               194  \n",
       "4               0.10                               1                 0  "
      ]
     },
     "execution_count": 4,
     "metadata": {},
     "output_type": "execute_result"
    }
   ],
   "source": [
    "air_bnb = pd.read_csv('AB_NYC_2019 - AB_NYC_2019.csv')\n",
    "\n",
    "air_bnb.head()"
   ]
  },
  {
   "cell_type": "code",
   "execution_count": 31,
   "metadata": {},
   "outputs": [
    {
     "name": "stdout",
     "output_type": "stream",
     "text": [
      "host_name\n",
      "Michael         417\n",
      "David           403\n",
      "Sonder (NYC)    327\n",
      "John            294\n",
      "Alex            279\n",
      "Name: count, dtype: int64\n"
     ]
    }
   ],
   "source": [
    "#Which hosts are the busiest and why?\n",
    "\n",
    "busiest_host=air_bnb['host_name'].value_counts().sort_values(ascending=False)\n",
    "print(busiest_host[0:5])\n",
    "\n",
    "# Michael, David ,Sonder (NYC), John, Alex are the most busy hosts since they are frequently involving as it is proofed using value_counts\n"
   ]
  },
  {
   "cell_type": "code",
   "execution_count": 18,
   "metadata": {},
   "outputs": [
    {
     "data": {
      "text/plain": [
       "neighbourhood_group\n",
       "Manhattan        21661\n",
       "Brooklyn         20104\n",
       "Queens            5666\n",
       "Bronx             1091\n",
       "Staten Island      373\n",
       "Name: count, dtype: int64"
      ]
     },
     "execution_count": 18,
     "metadata": {},
     "output_type": "execute_result"
    }
   ],
   "source": [
    "#How many neighborhood groups are available and which shows up the most?\n",
    "air_bnb['neighbourhood_group'].value_counts()\n",
    "\n"
   ]
  },
  {
   "cell_type": "code",
   "execution_count": 67,
   "metadata": {},
   "outputs": [
    {
     "data": {
      "text/plain": [
       "room_type\n",
       "Entire home/apt    13199\n",
       "Private room        7982\n",
       "Shared room          480\n",
       "Name: neighbourhood_group, dtype: int64"
      ]
     },
     "execution_count": 67,
     "metadata": {},
     "output_type": "execute_result"
    }
   ],
   "source": [
    "# Are private rooms the most popular in manhattan?\n",
    "air_bnb.groupby(['neighbourhood_group','room_type'])['neighbourhood_group'].count()['Manhattan'] \n",
    "\n",
    "# The Entire hom/apt is the most popular in manhattan\n"
   ]
  },
  {
   "cell_type": "code",
   "execution_count": 33,
   "metadata": {},
   "outputs": [
    {
     "name": "stdout",
     "output_type": "stream",
     "text": [
      "host_name\n",
      "Dona        629\n",
      "Jj          607\n",
      "Maya        543\n",
      "Carol       540\n",
      "Danielle    510\n",
      "Name: number_of_reviews, dtype: int64\n"
     ]
    }
   ],
   "source": [
    "# Which hosts are the busiest and based on their reviews?\n",
    "busiest_review=air_bnb.groupby(['host_name'])['number_of_reviews'].max().sort_values(ascending=False)\n",
    "print(busiest_review[0:5])"
   ]
  },
  {
   "cell_type": "code",
   "execution_count": 55,
   "metadata": {},
   "outputs": [
    {
     "name": "stdout",
     "output_type": "stream",
     "text": [
      "                           mean\n",
      "neighbourhood_group            \n",
      "Manhattan            196.875814\n"
     ]
    }
   ],
   "source": [
    "#Which neighorhood group has the highest average price?\n",
    "Avg_price=air_bnb.groupby(['neighbourhood_group'])['price'].agg(['mean']).sort_values(by=['mean'], ascending= False)\n",
    "print(Avg_price[0:1])\n",
    "\n",
    "#a.sort_values(by=['mean'], ascending= False)\n",
    "\n",
    "#'Manhattan' has the highest average price"
   ]
  },
  {
   "cell_type": "code",
   "execution_count": 59,
   "metadata": {},
   "outputs": [
    {
     "name": "stdout",
     "output_type": "stream",
     "text": [
      "neighbourhood_group\n",
      "Brooklyn     10000\n",
      "Manhattan    10000\n",
      "Queens       10000\n",
      "Name: price, dtype: int64\n"
     ]
    }
   ],
   "source": [
    "# Which neighbor hood group has the highest total price?\n",
    "highest_total_price=air_bnb.groupby(['neighbourhood_group'])['price'].max().sort_values(ascending=False)\n",
    "print(highest_total_price[0:3])"
   ]
  },
  {
   "cell_type": "code",
   "execution_count": 19,
   "metadata": {},
   "outputs": [
    {
     "name": "stdout",
     "output_type": "stream",
     "text": [
      "host_name  price\n",
      "Jelena     10000    10000\n",
      "Kathrine   10000    10000\n",
      "Erin       10000    10000\n",
      "Matt       9999      9999\n",
      "Amy        9999      9999\n",
      "Name: price, dtype: int64\n"
     ]
    }
   ],
   "source": [
    "#Which top 5 hosts have the highest total price?\n",
    "highest_Price=air_bnb.groupby(['host_name','price'])['price'].max().sort_values(ascending=False)\n",
    "#highest_Price.sort_values(ascending=False)\n",
    "# highest=[]\n",
    "# for i in highest_Price[i]:\n",
    "#     if  highest_Price[i]<5:\n",
    "#          highest_Price[i].append(highest)\n",
    "#     print(highest)\n",
    "print(highest_Price[0:5])"
   ]
  },
  {
   "cell_type": "code",
   "execution_count": 63,
   "metadata": {},
   "outputs": [
    {
     "name": "stdout",
     "output_type": "stream",
     "text": [
      "host_name\n",
      "MaryEllen     118\n",
      "Christiana    168\n",
      "Sol           193\n",
      "Coral         114\n",
      "Doug          206\n",
      "             ... \n",
      "Kathleen      103\n",
      "Janet         119\n",
      "Albert        102\n",
      "Stephany      131\n",
      "Mariluz       112\n",
      "Name: number_of_reviews, Length: 162, dtype: int64\n",
      "host_name\n",
      "MaryEllen     0\n",
      "Christiana    0\n",
      "Sol           0\n",
      "Coral         0\n",
      "Doug          0\n",
      "             ..\n",
      "Kathleen      0\n",
      "Janet         0\n",
      "Albert        0\n",
      "Stephany      0\n",
      "Mariluz       0\n",
      "Name: availability_365, Length: 162, dtype: int64\n"
     ]
    }
   ],
   "source": [
    "# Who currently has no (zero) availability with a review count of 100 or more?['availability_365'== 0]['number_of_reviews' >= 0]]\n",
    "\n",
    "AirB_host=air_bnb.set_index(['host_name'])\n",
    "#A\n",
    "availability=(AirB_host['availability_365'] == 0) \n",
    "Review= (AirB_host[availability]['number_of_reviews'] >= 100)\n",
    "Result= AirB_host[availability][Review]\n",
    "\n",
    "#Result\n",
    "print(Result['number_of_reviews'])\n",
    "print(Result['availability_365'])\n"
   ]
  },
  {
   "cell_type": "code",
   "execution_count": 23,
   "metadata": {},
   "outputs": [
    {
     "name": "stdout",
     "output_type": "stream",
     "text": [
      "host_name  price  neighbourhood_group\n",
      "Jelena     10000  Manhattan              10000\n",
      "Kathrine   10000  Queens                 10000\n",
      "Erin       10000  Brooklyn               10000\n",
      "Name: price, dtype: int64\n"
     ]
    }
   ],
   "source": [
    "# What host has the highest total of prices and where are they located?\n",
    "#air_bnb['host_name'].max(['price'])\n",
    "host_price_loc=air_bnb.groupby(['host_name','price','neighbourhood_group'])['price'].max().sort_values(ascending=False)\n",
    "print(host_price_loc[0:3])"
   ]
  },
  {
   "cell_type": "code",
   "execution_count": 65,
   "metadata": {},
   "outputs": [
    {
     "name": "stdout",
     "output_type": "stream",
     "text": [
      "host_name\n",
      "Danielle    2019-07-08\n",
      "Name: last_review, dtype: object\n"
     ]
    }
   ],
   "source": [
    "# When did Danielle from Queens last receive a review?\n",
    "\n",
    "\n",
    "#air_bnb['host_name','neighbourhood_group').loc['Danielle']['Queens']\n",
    "\n",
    "\n",
    "#air_bnb[air_bnb['host_name'['Danielle']]]\n",
    "Dan=air_bnb.set_index(['host_name']).loc['Danielle']\n",
    "Dan\n",
    "Reviwe=(Dan['neighbourhood_group']== 'Queens' )\n",
    "last_review_date=Dan[Reviwe]['last_review'].sort_values(ascending= False)\n",
    "print(last_review_date[0:1])\n",
    "\n",
    "\n",
    "#Daniel.loc[['Danielle'],['Queens','last_review']]"
   ]
  },
  {
   "cell_type": "markdown",
   "metadata": {},
   "source": [
    "## Further Questions\n",
    "\n",
    "1. Which host has the most listings?"
   ]
  },
  {
   "cell_type": "code",
   "execution_count": 26,
   "metadata": {},
   "outputs": [
    {
     "name": "stdout",
     "output_type": "stream",
     "text": [
      "host_name\n",
      "Sonder (NYC)    327\n",
      "Name: calculated_host_listings_count, dtype: int64\n"
     ]
    }
   ],
   "source": [
    "listing=air_bnb.groupby(['host_name'])['calculated_host_listings_count'].agg('max').sort_values(ascending=False)\n",
    "print(listing[0:1])"
   ]
  },
  {
   "cell_type": "markdown",
   "metadata": {},
   "source": [
    "2. How many listings have completely open availability?"
   ]
  },
  {
   "cell_type": "code",
   "execution_count": 248,
   "metadata": {},
   "outputs": [
    {
     "data": {
      "text/plain": [
       "availability_365\n",
       "0    17533\n",
       "Name: count, dtype: int64"
      ]
     },
     "execution_count": 248,
     "metadata": {},
     "output_type": "execute_result"
    }
   ],
   "source": [
    "AirB_listings=air_bnb.set_index(['calculated_host_listings_count'])\n",
    "#AirB_listings\n",
    "Zero_Ava= (AirB_listings['availability_365'] == 0)\n",
    "AirB_listings[Zero_Ava]['availability_365'].value_counts()"
   ]
  },
  {
   "cell_type": "markdown",
   "metadata": {},
   "source": [
    "3. What room_types have the highest review numbers?"
   ]
  },
  {
   "cell_type": "code",
   "execution_count": 66,
   "metadata": {
    "scrolled": true
   },
   "outputs": [
    {
     "name": "stdout",
     "output_type": "stream",
     "text": [
      "room_type\n",
      "Private room    629\n",
      "Name: number_of_reviews, dtype: int64\n"
     ]
    }
   ],
   "source": [
    "review_numbers=air_bnb.groupby(['room_type'])['number_of_reviews'].max().sort_values(ascending=False)\n",
    "print(review_numbers[0:1])"
   ]
  },
  {
   "cell_type": "markdown",
   "metadata": {},
   "source": [
    "# Final Conclusion\n",
    "\n",
    "1. Which hosts are the busiest and why?\n",
    "\n",
    "Michael, David ,Sonder (NYC), John, Alex are the most busy hosts since they are frequently booked by customers as it is proven using value_counts.\n",
    "\n",
    "2. How many neighborhood groups are available and which shows up the most?\n",
    "\n",
    "There are five neighborhood groups available , These are Manhattan, Brooklyn, Queens, Bronx, and Staten Island\n",
    "\n",
    "3. Are private rooms the most popular in manhattan?\n",
    "\n",
    "  The Entire hom/apt is the most popular in manhattan than private rooms\n",
    "\n",
    "4. Which hosts are the busiest and based on their reviews?\n",
    "  According to the review Dona,Jj, Maya, Carol, and Danielle are the top busiest hosts\n",
    "\n",
    "5. Which neighorhood group has the highest average price?\n",
    "\n",
    "  Manhattan' has the highest average price with $197 aveage price\n",
    "\n",
    "6. Which neighbor hood group has the highest total price?\n",
    "   Brookly, Manhattan and Queens are the three neighbor group with the highest total price    of $10,000\n",
    "\n",
    "7. Which top 5 hosts have the highest total price?\n",
    "  Jelena, kathrine, Erin, Matt, and Amy are the five host with highese total price\n",
    "\n",
    "8. Who currently has no (zero) availability with a review count of 100 or more?\n",
    "  These hosts are some of the 162 host whove have above 100 review count and has no availablity.\n",
    "   *MaryEllen  ,Christiana  ,Sol ,Coral  ,Doug ,Kathleen ,Janet  ,Albert ,Stephany  ,Mariluz   \n",
    "9. What host has the highest total of prices and where are they located?\n",
    "  Jelena, kathrine, Erin has the highest total price and are located in Manhattan,Queens,     and Brooklyn consecutively  \n",
    "\n",
    "10. When did Danielle from Queens last receive a review?\n",
    "   Danielle from Queens received his last review in July 8, 2019.\n",
    "\n",
    "Further Questions\n",
    "1. Which host has the most listings \n",
    "Sonder has the highest listings\n",
    "2. How many listings have completely open availability? \n",
    "17533 listings have open availabltity \n",
    "3. What room_types have the highest review numbers? \n",
    "Private room has the highest review numbers.\n"
   ]
  },
  {
   "cell_type": "code",
   "execution_count": null,
   "metadata": {},
   "outputs": [],
   "source": [
    "\n",
    "\n"
   ]
  }
 ],
 "metadata": {
  "kernelspec": {
   "display_name": "Python 3 (ipykernel)",
   "language": "python",
   "name": "python3"
  },
  "language_info": {
   "codemirror_mode": {
    "name": "ipython",
    "version": 3
   },
   "file_extension": ".py",
   "mimetype": "text/x-python",
   "name": "python",
   "nbconvert_exporter": "python",
   "pygments_lexer": "ipython3",
   "version": "3.9.7"
  }
 },
 "nbformat": 4,
 "nbformat_minor": 2
}
